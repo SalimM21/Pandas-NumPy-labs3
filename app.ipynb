{
 "cells": [
  {
   "cell_type": "markdown",
   "id": "2fc5719b",
   "metadata": {},
   "source": [
    "# Exercice : Analyse approfondie des employés d’une entreprise tech"
   ]
  },
  {
   "cell_type": "markdown",
   "id": "75a02eac",
   "metadata": {},
   "source": [
    "**Partie 1 : Chargement et exploration du dataset**"
   ]
  },
  {
   "cell_type": "markdown",
   "id": "79e845d4",
   "metadata": {},
   "source": [
    "Charger le fichier employees2.csv dans un DataFrame Pandas"
   ]
  },
  {
   "cell_type": "code",
   "execution_count": 13,
   "id": "eb9c088b",
   "metadata": {},
   "outputs": [],
   "source": [
    "import pandas as pd\n",
    "df = pd.read_csv('employees2.csv')"
   ]
  },
  {
   "cell_type": "markdown",
   "id": "b295181d",
   "metadata": {},
   "source": [
    "Afficher les 5 premières lignes du DataFrame"
   ]
  },
  {
   "cell_type": "code",
   "execution_count": 14,
   "id": "07bb73a1",
   "metadata": {},
   "outputs": [
    {
     "name": "stdout",
     "output_type": "stream",
     "text": [
      "   Unnamed: 0  ID     Name   Age   Salary Department  Years_Experience Remote\n",
      "0           0   1  Othmane   NaN      NaN         IT                 0    Yes\n",
      "1           1   2    Ikram  22.0      NaN         HR                23    Yes\n",
      "2           2   3      Bob   NaN      NaN         HR                26    Yes\n",
      "3           3   4    Zineb  59.0  73665.0         HR                 3     No\n",
      "4           4   5    David  57.0  59325.0    Finance                33     No\n"
     ]
    }
   ],
   "source": [
    "print(df.head(5))"
   ]
  },
  {
   "cell_type": "markdown",
   "id": "f6d1679f",
   "metadata": {},
   "source": [
    "Vérifier les types de données de chaque colonne"
   ]
  },
  {
   "cell_type": "code",
   "execution_count": 15,
   "id": "c28f8720",
   "metadata": {},
   "outputs": [
    {
     "name": "stdout",
     "output_type": "stream",
     "text": [
      "Unnamed: 0            int64\n",
      "ID                    int64\n",
      "Name                 object\n",
      "Age                 float64\n",
      "Salary              float64\n",
      "Department           object\n",
      "Years_Experience      int64\n",
      "Remote               object\n",
      "dtype: object\n"
     ]
    }
   ],
   "source": [
    "print(df.dtypes)"
   ]
  },
  {
   "cell_type": "markdown",
   "id": "4f663e2f",
   "metadata": {},
   "source": [
    "Identifier les valeurs manquantes par colonne"
   ]
  },
  {
   "cell_type": "code",
   "execution_count": 16,
   "id": "16d7dda3",
   "metadata": {},
   "outputs": [
    {
     "name": "stdout",
     "output_type": "stream",
     "text": [
      "Unnamed: 0           0\n",
      "ID                   0\n",
      "Name                 0\n",
      "Age                 49\n",
      "Salary              44\n",
      "Department           0\n",
      "Years_Experience     0\n",
      "Remote               0\n",
      "dtype: int64\n"
     ]
    }
   ],
   "source": [
    "print(df.isnull().sum())"
   ]
  },
  {
   "cell_type": "markdown",
   "id": "5563d69e",
   "metadata": {},
   "source": [
    "**Partie 2 : Nettoyage des données**"
   ]
  },
  {
   "cell_type": "markdown",
   "id": "24161d55",
   "metadata": {},
   "source": [
    "Remplacer les valeurs manquantes dans la colonne Age par la médiane de cette colonne"
   ]
  },
  {
   "cell_type": "code",
   "execution_count": 17,
   "id": "9af99a5c",
   "metadata": {},
   "outputs": [
    {
     "name": "stdout",
     "output_type": "stream",
     "text": [
      "0     45.0\n",
      "1     22.0\n",
      "2     45.0\n",
      "3     59.0\n",
      "4     57.0\n",
      "      ... \n",
      "95    45.0\n",
      "96    45.0\n",
      "97    45.0\n",
      "98    42.0\n",
      "99    32.0\n",
      "Name: Age, Length: 100, dtype: float64\n"
     ]
    }
   ],
   "source": [
    "df['Age']=df['Age'].fillna(df['Age'].median())\n",
    "print(df ['Age'])"
   ]
  },
  {
   "cell_type": "markdown",
   "id": "79a23721",
   "metadata": {},
   "source": [
    "Remplir les valeurs manquantes dans Salaire en utilisant la moyenne par département "
   ]
  },
  {
   "cell_type": "code",
   "execution_count": 18,
   "id": "0531e037",
   "metadata": {},
   "outputs": [
    {
     "name": "stdout",
     "output_type": "stream",
     "text": [
      "0         NaN\n",
      "1         NaN\n",
      "2         NaN\n",
      "3     73665.0\n",
      "4     59325.0\n",
      "       ...   \n",
      "95    82670.0\n",
      "96    59838.0\n",
      "97    45811.0\n",
      "98    73800.0\n",
      "99        NaN\n",
      "Name: Salary, Length: 100, dtype: float64\n"
     ]
    }
   ],
   "source": [
    "df['salary']=df['Salary'].fillna(df.groupby('Department')['Salary'].transform('mean'))\n",
    "print(df['Salary'])"
   ]
  },
  {
   "cell_type": "markdown",
   "id": "a7a66559",
   "metadata": {},
   "source": [
    "Convertir toutes les colonnes numériques en type approprié (float ou int)"
   ]
  },
  {
   "cell_type": "code",
   "execution_count": 19,
   "id": "2205e29b",
   "metadata": {},
   "outputs": [
    {
     "name": "stdout",
     "output_type": "stream",
     "text": [
      "Unnamed: 0            int64\n",
      "ID                    int64\n",
      "Name                 object\n",
      "Age                   int64\n",
      "Salary              float64\n",
      "Department           object\n",
      "Years_Experience      int64\n",
      "Remote               object\n",
      "salary              float64\n",
      "dtype: object\n"
     ]
    }
   ],
   "source": [
    "for col in df.select_dtypes(include=['number']).columns:\n",
    "    if (df[col] % 1 == 0).all():  # Si toutes les valeurs sont des entiers\n",
    "            df[col] = df[col].astype(int)\n",
    "    else:\n",
    "            df[col] = pd.to_numeric(df[col], errors='coerce')\n",
    "print(df.dtypes)"
   ]
  },
  {
   "cell_type": "markdown",
   "id": "6f038385",
   "metadata": {},
   "source": [
    "Remplacer les valeurs 'Yes'/'No' dans Remote par 'Oui'/'Non'"
   ]
  },
  {
   "cell_type": "code",
   "execution_count": 20,
   "id": "14fc4d77",
   "metadata": {},
   "outputs": [
    {
     "name": "stdout",
     "output_type": "stream",
     "text": [
      "0     Oui\n",
      "1     Oui\n",
      "2     Oui\n",
      "3     Non\n",
      "4     Non\n",
      "     ... \n",
      "95    Oui\n",
      "96    Non\n",
      "97    Oui\n",
      "98    Oui\n",
      "99    Oui\n",
      "Name: Remote, Length: 100, dtype: object\n"
     ]
    }
   ],
   "source": [
    "df['Remote'] = df['Remote'].replace({'Yes': 'Oui', 'No': 'Non'})\n",
    "print(df['Remote'])"
   ]
  },
  {
   "cell_type": "markdown",
   "id": "4850e9c2",
   "metadata": {},
   "source": [
    "Créer une nouvelle colonne Ancienneté_Catégorie qui classe les années d’expérience en :\n",
    "- Junior : < 3 ans\n",
    "- Intermédiaire : 3–7 ans\n",
    "- Senior : 8–15 ans\n",
    "- Expert : > 15 ans"
   ]
  },
  {
   "cell_type": "code",
   "execution_count": 21,
   "id": "c3caf668",
   "metadata": {},
   "outputs": [
    {
     "name": "stdout",
     "output_type": "stream",
     "text": [
      "    Years_Experience Ancienneté_Catégorie\n",
      "0                  0               Junior\n",
      "1                 23               Expert\n",
      "2                 26               Expert\n",
      "3                  3        Intermédiaire\n",
      "4                 33               Expert\n",
      "..               ...                  ...\n",
      "95                21               Expert\n",
      "96                12               Senior\n",
      "97                14               Senior\n",
      "98                13               Senior\n",
      "99                19               Expert\n",
      "\n",
      "[100 rows x 2 columns]\n"
     ]
    }
   ],
   "source": [
    "def categorize_experience(years):\n",
    "    if years < 3:\n",
    "        return 'Junior'\n",
    "    elif 3 <= years < 8:\n",
    "        return 'Intermédiaire'\n",
    "    elif 8 <= years <= 15:\n",
    "        return 'Senior'\n",
    "    else:\n",
    "        return 'Expert'\n",
    "df['Ancienneté_Catégorie'] = df['Years_Experience'].apply(categorize_experience)\n",
    "print(df[['Years_Experience', 'Ancienneté_Catégorie']])"
   ]
  },
  {
   "cell_type": "markdown",
   "id": "2e7e48b1",
   "metadata": {},
   "source": [
    "**Partie 3 : Analyses exploratoires et statistiques**"
   ]
  },
  {
   "cell_type": "markdown",
   "id": "b67aadf9",
   "metadata": {},
   "source": [
    "Calculer le salaire moyen global"
   ]
  },
  {
   "cell_type": "code",
   "execution_count": 22,
   "id": "ee6fe3b7",
   "metadata": {},
   "outputs": [
    {
     "name": "stdout",
     "output_type": "stream",
     "text": [
      "64461.96428571428\n"
     ]
    }
   ],
   "source": [
    "print(df['Salary'].mean())"
   ]
  },
  {
   "cell_type": "markdown",
   "id": "5eb2caa3",
   "metadata": {},
   "source": [
    "l’employé(e) avec le salaire le plus élevé"
   ]
  },
  {
   "cell_type": "code",
   "execution_count": 23,
   "id": "2c8dadb9",
   "metadata": {},
   "outputs": [
    {
     "name": "stdout",
     "output_type": "stream",
     "text": [
      "Employé(e) avec le salaire le plus élevé :\n",
      "Name        Jalil\n",
      "Salary    84685.0\n",
      "Name: 27, dtype: object\n"
     ]
    }
   ],
   "source": [
    "highest_salary_employee = df.loc[df['Salary'].idxmax()]\n",
    "print(\"Employé(e) avec le salaire le plus élevé :\") \n",
    "print(highest_salary_employee[['Name', 'Salary']])"
   ]
  },
  {
   "cell_type": "markdown",
   "id": "78220465",
   "metadata": {},
   "source": [
    "Calculer le salaire moyen par département"
   ]
  },
  {
   "cell_type": "code",
   "execution_count": 24,
   "id": "1da399ed",
   "metadata": {},
   "outputs": [
    {
     "name": "stdout",
     "output_type": "stream",
     "text": [
      "\n",
      "Salaire moyen par département :\n",
      "  Department        Salary\n",
      "0    Finance  57836.583333\n",
      "1         HR  61659.733333\n",
      "2         IT  69930.000000\n",
      "3  Logistics  64544.750000\n",
      "4  Marketing  70395.153846\n"
     ]
    }
   ],
   "source": [
    "salary_by_department = df.groupby('Department')['Salary'].mean().reset_index()\n",
    "print(\"\\nSalaire moyen par département :\")\n",
    "print(salary_by_department)"
   ]
  },
  {
   "cell_type": "markdown",
   "id": "9bf37081",
   "metadata": {},
   "source": [
    "Calculer la moyenne et la médiane des salaires par groupe d’ancienneté"
   ]
  },
  {
   "cell_type": "code",
   "execution_count": 25,
   "id": "33505e6f",
   "metadata": {},
   "outputs": [
    {
     "name": "stdout",
     "output_type": "stream",
     "text": [
      "\n",
      "Moyenne et médiane des salaires par groupe d’ancienneté :\n",
      "  Ancienneté_Catégorie          mean   median\n",
      "0               Expert  63605.969697  60057.0\n",
      "1        Intermédiaire  68405.444444  66906.0\n",
      "2               Junior  55821.666667  48758.0\n",
      "3               Senior  66159.909091  73800.0\n"
     ]
    }
   ],
   "source": [
    "salary_by_experience = df.groupby('Ancienneté_Catégorie')['Salary'].agg(['mean', 'median']).reset_index()\n",
    "print(\"\\nMoyenne et médiane des salaires par groupe d’ancienneté :\")\n",
    "print(salary_by_experience)"
   ]
  },
  {
   "cell_type": "markdown",
   "id": "e988b81d",
   "metadata": {},
   "source": [
    "Compter combien d’employés travaillent en télétravail (Remote) par département"
   ]
  },
  {
   "cell_type": "code",
   "execution_count": 26,
   "id": "060cbbda",
   "metadata": {},
   "outputs": [
    {
     "name": "stdout",
     "output_type": "stream",
     "text": [
      "\n",
      "Nombre d’employés en télétravail par département :\n",
      "  Department  Count\n",
      "0    Finance      7\n",
      "1         HR     13\n",
      "2         IT      9\n",
      "3  Logistics      8\n",
      "4  Marketing     18\n"
     ]
    }
   ],
   "source": [
    "remote_count_by_department = df[df['Remote'] == 'Oui'].groupby('Department').size().reset_index(name='Count')\n",
    "print(\"\\nNombre d’employés en télétravail par département :\")\n",
    "print(remote_count_by_department)"
   ]
  },
  {
   "cell_type": "markdown",
   "id": "c997c36a",
   "metadata": {},
   "source": [
    "**Partie 4 : Tableaux croisés dynamiques (pivot tables)**"
   ]
  },
  {
   "cell_type": "markdown",
   "id": "a71687d9",
   "metadata": {},
   "source": [
    "Créer un tableau croisé dynamique montrant le salaire moyen par département et par télétravail"
   ]
  },
  {
   "cell_type": "code",
   "execution_count": 27,
   "id": "cc613062",
   "metadata": {},
   "outputs": [
    {
     "name": "stdout",
     "output_type": "stream",
     "text": [
      "\n",
      "Tableau croisé dynamique du salaire moyen par département et par télétravail :\n",
      "Remote Department        Non           Oui\n",
      "0         Finance  62919.875  47670.000000\n",
      "1              HR  63830.750  59178.571429\n",
      "2              IT  63577.500  72047.500000\n",
      "3       Logistics  65482.750  63606.750000\n",
      "4       Marketing  68356.000  70765.909091\n"
     ]
    }
   ],
   "source": [
    "pivot_table = df.pivot_table(values='Salary', index='Department', columns='Remote', aggfunc='mean').reset_index()\n",
    "print(\"\\nTableau croisé dynamique du salaire moyen par département et par télétravail :\")\n",
    "print(pivot_table)"
   ]
  },
  {
   "cell_type": "markdown",
   "id": "2300b86a",
   "metadata": {},
   "source": [
    "Créer un autre tableau croisé dynamique montrant le nombre moyen d’années d’expérience par groupe d’âge et par département"
   ]
  },
  {
   "cell_type": "code",
   "execution_count": 28,
   "id": "4753f0bb",
   "metadata": {},
   "outputs": [
    {
     "name": "stdout",
     "output_type": "stream",
     "text": [
      "\n",
      "Tableau croisé dynamique du nombre moyen d’années d’expérience par groupe d’âge et par département :\n",
      "Department  Age    Finance         HR    IT  Logistics  Marketing\n",
      "0            22        NaN  23.000000   NaN        NaN        NaN\n",
      "1            23        NaN  21.000000   NaN        NaN        NaN\n",
      "2            25        NaN        NaN   NaN        NaN  19.000000\n",
      "3            26        NaN  24.000000   NaN        NaN        NaN\n",
      "4            27        NaN        NaN  16.0        NaN  17.000000\n",
      "5            29        NaN        NaN  10.0  19.000000        NaN\n",
      "6            30        NaN        NaN   NaN  27.500000        NaN\n",
      "7            31        NaN  27.000000   NaN        NaN        NaN\n",
      "8            32  28.500000        NaN   NaN   6.000000  19.000000\n",
      "9            33  33.000000        NaN   NaN        NaN        NaN\n",
      "10           36  22.000000        NaN   NaN        NaN        NaN\n",
      "11           37        NaN        NaN   NaN        NaN   4.000000\n",
      "12           40        NaN        NaN   NaN  11.500000        NaN\n",
      "13           42        NaN        NaN   NaN        NaN  13.000000\n",
      "14           43        NaN        NaN  34.0        NaN        NaN\n",
      "15           44  24.000000        NaN   NaN        NaN        NaN\n",
      "16           45  15.727273  14.266667  14.5  15.666667  22.615385\n",
      "17           48        NaN  14.000000   NaN        NaN        NaN\n",
      "18           50  11.000000        NaN   NaN        NaN        NaN\n",
      "19           51        NaN  20.000000   NaN        NaN        NaN\n",
      "20           52   6.000000        NaN  26.0  19.000000  12.000000\n",
      "21           53        NaN  31.500000   NaN        NaN  20.000000\n",
      "22           55        NaN  23.500000   NaN        NaN        NaN\n",
      "23           56        NaN  19.000000   NaN        NaN  22.333333\n",
      "24           57  33.000000        NaN   NaN  10.000000        NaN\n",
      "25           58        NaN        NaN  17.0  31.000000        NaN\n",
      "26           59        NaN   3.000000   NaN        NaN  20.000000\n"
     ]
    }
   ],
   "source": [
    "pivot_table_experience = df.pivot_table(values='Years_Experience', index='Age', columns='Department', aggfunc='mean').reset_index()\n",
    "print(\"\\nTableau croisé dynamique du nombre moyen d’années d’expérience par groupe d’âge et par département :\")\n",
    "print(pivot_table_experience)"
   ]
  },
  {
   "cell_type": "markdown",
   "id": "ba35fa11",
   "metadata": {},
   "source": [
    "**Partie 5 : Calculs avancés avec NumPy**"
   ]
  },
  {
   "cell_type": "markdown",
   "id": "f3d82bd2",
   "metadata": {},
   "source": [
    "Utiliser np.where() pour créer une colonne Performance :\n",
    "- \"Bon\" si Salaire < 60000\n",
    "- \"Moyen\" si 60000 ≤ Salaire < 80000\n",
    "- \"Haut\" si Salaire ≥ 80000 "
   ]
  },
  {
   "cell_type": "code",
   "execution_count": 31,
   "id": "2eed197c",
   "metadata": {},
   "outputs": [
    {
     "name": "stdout",
     "output_type": "stream",
     "text": [
      "\n",
      "Colonne Performance :\n",
      "       Name   Salary Performance\n",
      "0   Othmane      NaN        Haut\n",
      "1     Ikram      NaN        Haut\n",
      "2       Bob      NaN        Haut\n",
      "3     Zineb  73665.0       Moyen\n",
      "4     David  59325.0         Bon\n",
      "..      ...      ...         ...\n",
      "95      Bob  82670.0        Haut\n",
      "96      Eva  59838.0         Bon\n",
      "97   Nassim  45811.0         Bon\n",
      "98   Nassim  73800.0       Moyen\n",
      "99  Othmane      NaN        Haut\n",
      "\n",
      "[100 rows x 3 columns]\n"
     ]
    }
   ],
   "source": [
    "import numpy as np\n",
    "\n",
    "df['Performance'] = np.where(df['Salary'] < 60000, 'Bon',\n",
    "                              np.where(df['Salary'] < 80000, 'Moyen', 'Haut'))\n",
    "print(\"\\nColonne Performance :\")\n",
    "print(df[['Name', 'Salary', 'Performance']])"
   ]
  },
  {
   "cell_type": "markdown",
   "id": "df52283a",
   "metadata": {},
   "source": [
    "Utiliser np.select() pour classer les employés selon leur âge et leur ancienneté :\n",
    "- Jeune & Nouveau\n",
    "- Jeune & Expérimenté\n",
    "- Senior & Nouveau\n",
    " Senior & Expérimenté"
   ]
  },
  {
   "cell_type": "code",
   "execution_count": 32,
   "id": "ea75def5",
   "metadata": {},
   "outputs": [
    {
     "name": "stdout",
     "output_type": "stream",
     "text": [
      "\n",
      "Classification des employés :\n",
      "       Name  Age Ancienneté_Catégorie        Classification\n",
      "0   Othmane   45               Junior  Senior & Expérimenté\n",
      "1     Ikram   22               Expert   Jeune & Expérimenté\n",
      "2       Bob   45               Expert  Senior & Expérimenté\n",
      "3     Zineb   59        Intermédiaire  Senior & Expérimenté\n",
      "4     David   57               Expert  Senior & Expérimenté\n",
      "..      ...  ...                  ...                   ...\n",
      "95      Bob   45               Expert  Senior & Expérimenté\n",
      "96      Eva   45               Senior      Senior & Nouveau\n",
      "97   Nassim   45               Senior      Senior & Nouveau\n",
      "98   Nassim   42               Senior      Senior & Nouveau\n",
      "99  Othmane   32               Expert  Senior & Expérimenté\n",
      "\n",
      "[100 rows x 4 columns]\n"
     ]
    }
   ],
   "source": [
    "conditions = [\n",
    "    (df['Age'] < 30) & (df['Ancienneté_Catégorie'] == 'Junior'),\n",
    "    (df['Age'] < 30) & (df['Ancienneté_Catégorie'] != 'Junior'),\n",
    "    (df['Age'] >= 30) & (df['Ancienneté_Catégorie'] == 'Senior'),\n",
    "    (df['Age'] >= 30) & (df['Ancienneté_Catégorie'] != 'Senior')\n",
    "]\n",
    "choices = [\n",
    "    'Jeune & Nouveau',\n",
    "    'Jeune & Expérimenté',\n",
    "    'Senior & Nouveau',\n",
    "    'Senior & Expérimenté'\n",
    "]\n",
    "df['Classification'] = np.select(conditions, choices, default='Autre')\n",
    "print(\"\\nClassification des employés :\")\n",
    "print(df[['Name', 'Age', 'Ancienneté_Catégorie', 'Classification']])"
   ]
  },
  {
   "cell_type": "markdown",
   "id": "f22adb61",
   "metadata": {},
   "source": [
    "Calculer la différence entre le salaire de chaque employé et le salaire moyen de son département"
   ]
  },
  {
   "cell_type": "code",
   "execution_count": 33,
   "id": "f6138ace",
   "metadata": {},
   "outputs": [
    {
     "name": "stdout",
     "output_type": "stream",
     "text": [
      "\n",
      "Différence de salaire par rapport au salaire moyen du département :\n",
      "       Name Department   Salary  Salary_Difference\n",
      "0   Othmane         IT      NaN                NaN\n",
      "1     Ikram         HR      NaN                NaN\n",
      "2       Bob         HR      NaN                NaN\n",
      "3     Zineb         HR  73665.0       12005.266667\n",
      "4     David    Finance  59325.0        1488.416667\n",
      "..      ...        ...      ...                ...\n",
      "95      Bob  Marketing  82670.0       12274.846154\n",
      "96      Eva    Finance  59838.0        2001.416667\n",
      "97   Nassim    Finance  45811.0      -12025.583333\n",
      "98   Nassim  Marketing  73800.0        3404.846154\n",
      "99  Othmane  Marketing      NaN                NaN\n",
      "\n",
      "[100 rows x 4 columns]\n"
     ]
    }
   ],
   "source": [
    "df['Salary_Difference'] = df['Salary'] - df.groupby('Department')['Salary'].transform('mean')\n",
    "print(\"\\nDifférence de salaire par rapport au salaire moyen du département :\")\n",
    "print(df[['Name', 'Department', 'Salary', 'Salary_Difference']])"
   ]
  },
  {
   "cell_type": "markdown",
   "id": "a02d4168",
   "metadata": {},
   "source": [
    "**Partie 6 : Visualisation (Bonus)**"
   ]
  },
  {
   "cell_type": "markdown",
   "id": "13a0637a",
   "metadata": {},
   "source": [
    "Afficher la distribution des salaires"
   ]
  },
  {
   "cell_type": "code",
   "execution_count": 34,
   "id": "76a2d041",
   "metadata": {},
   "outputs": [
    {
     "data": {
      "image/png": "[encoded data removed]",
      "text/plain": [
       "<Figure size 1000x600 with 1 Axes>"
      ]
     },
     "metadata": {},
     "output_type": "display_data"
    }
   ],
   "source": [
    "import matplotlib.pyplot as plt\n",
    "import seaborn as sns\n",
    "sns.set()\n",
    "# Afficher la distribution des salaires\n",
    "plt.figure(figsize=(10,6))\n",
    "sns.histplot(df['Salary'], bins=10, kde=True)\n",
    "plt.title('Distribution des salaires')\n",
    "plt.show()"
   ]
  },
  {
   "cell_type": "markdown",
   "id": "08d93959",
   "metadata": {},
   "source": [
    "Comparer les salaires moyens par département sous forme de barplot"
   ]
  },
  {
   "cell_type": "code",
   "execution_count": 38,
   "id": "1933b3b9",
   "metadata": {},
   "outputs": [
    {
     "data": {
      "image/png": "[encoded data removed]",
      "text/plain": [
       "<Figure size 1200x600 with 1 Axes>"
      ]
     },
     "metadata": {},
     "output_type": "display_data"
    }
   ],
   "source": [
    "plt.figure(figsize=(12,6))\n",
    "sns.barplot(x='Department', y='Salary', data=salary_by_department, hue='Department', palette='viridis')\n",
    "plt.title('Salaire moyen par département')\n",
    "plt.xticks(rotation=45)\n",
    "plt.show()"
   ]
  },
  {
   "cell_type": "markdown",
   "id": "89bdee27",
   "metadata": {},
   "source": [
    "Boxplot des salaires par groupe d’ancienneté"
   ]
  },
  {
   "cell_type": "code",
   "execution_count": 39,
   "id": "aa36a7d0",
   "metadata": {},
   "outputs": [
    {
     "data": {
      "image/png": "[encoded data removed]",
      "text/plain": [
       "<Figure size 1200x600 with 1 Axes>"
      ]
     },
     "metadata": {},
     "output_type": "display_data"
    }
   ],
   "source": [
    "plt.figure(figsize=(12,6))\n",
    "sns.boxplot(x='Ancienneté_Catégorie', y='Salary', data=df, hue='Ancienneté_Catégorie', palette='Set2')\n",
    "plt.title('Boxplot des salaires par groupe d’ancienneté')\n",
    "plt.show()"
   ]
  }
 ],
 "metadata": {
  "kernelspec": {
   "display_name": "base",
   "language": "python",
   "name": "python3"
  },
  "language_info": {
   "codemirror_mode": {
    "name": "ipython",
    "version": 3
   },
   "file_extension": ".py",
   "mimetype": "text/x-python",
   "name": "python",
   "nbconvert_exporter": "python",
   "pygments_lexer": "ipython3",
   "version": "3.13.5"
  }
 },
 "nbformat": 4,
 "nbformat_minor": 5
}
